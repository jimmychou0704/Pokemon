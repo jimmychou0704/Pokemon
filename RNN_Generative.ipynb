{
 "cells": [
  {
   "cell_type": "code",
   "execution_count": 1,
   "metadata": {
    "collapsed": true
   },
   "outputs": [],
   "source": [
    "import pandas as pd\n",
    "from matplotlib import pyplot as plt\n",
    "import numpy as np\n",
    "import time\n",
    "% matplotlib inline"
   ]
  },
  {
   "cell_type": "code",
   "execution_count": 2,
   "metadata": {
    "collapsed": false
   },
   "outputs": [],
   "source": [
    "pixel = pd.read_table('./pixel.txt', header= None,sep= ' ')\n",
    "data = pd.read_table('./data.txt', header = None, sep = ' ')"
   ]
  },
  {
   "cell_type": "code",
   "execution_count": 3,
   "metadata": {
    "collapsed": false
   },
   "outputs": [],
   "source": [
    "sample = data[:700]"
   ]
  },
  {
   "cell_type": "code",
   "execution_count": 4,
   "metadata": {
    "collapsed": false
   },
   "outputs": [],
   "source": [
    "# utility function to cut data points into (memory_length,) windows.\n",
    "# ex. [1,2,3,4,5], memory_length = 2  -->> [1,2],[2,3],[3,4],[4,5]\n",
    "\n",
    "memory_length = 40\n",
    "\n",
    "def data_generator(sample):\n",
    "    train_X = []\n",
    "    label = []\n",
    "\n",
    "    for i in range(len(sample)):\n",
    "        for j in range(memory_length -1, len(sample.iloc[0])-2):\n",
    "                temp = np.array(sample.iloc[i, j - memory_length +1: j+1])\n",
    "                #if np.sum([temp != 0]) != 0:\n",
    "                train_X.append(np.array(sample.iloc[i, j - memory_length +1: j+1]))\n",
    "                label.append(sample.iloc[i,j+1])\n",
    "    return np.array(train_X), np.array(label)\n"
   ]
  },
  {
   "cell_type": "code",
   "execution_count": 5,
   "metadata": {
    "collapsed": false
   },
   "outputs": [],
   "source": [
    "train_X, train_y = data_generator(sample)"
   ]
  },
  {
   "cell_type": "code",
   "execution_count": 6,
   "metadata": {
    "collapsed": false
   },
   "outputs": [
    {
     "data": {
      "text/plain": [
       "251300"
      ]
     },
     "execution_count": 6,
     "metadata": {},
     "output_type": "execute_result"
    }
   ],
   "source": [
    "len(train_X)"
   ]
  },
  {
   "cell_type": "code",
   "execution_count": 7,
   "metadata": {
    "collapsed": true
   },
   "outputs": [],
   "source": [
    "import tensorflow as tf"
   ]
  },
  {
   "cell_type": "code",
   "execution_count": 8,
   "metadata": {
    "collapsed": true
   },
   "outputs": [],
   "source": [
    "\n",
    "\n",
    "\n",
    "# each pixel counted as one feature\n",
    "feature_size = 1\n",
    "\n",
    "# number of neurals in lstm\n",
    "hidden_size = 512\n",
    "\n",
    "# number of possible colors\n",
    "n_class = 167\n",
    "\n",
    "batch_size = 1000\n",
    "\n",
    "n_epoch = 6"
   ]
  },
  {
   "cell_type": "code",
   "execution_count": 9,
   "metadata": {
    "collapsed": true
   },
   "outputs": [],
   "source": [
    "# place holders\n",
    "x = tf.placeholder(tf.float32, [None, memory_length, 1], name = 'x')\n",
    "y = tf.placeholder(tf.float32, [None, n_class], name = 'y')"
   ]
  },
  {
   "cell_type": "code",
   "execution_count": 10,
   "metadata": {
    "collapsed": true
   },
   "outputs": [],
   "source": [
    "# Forward passes\n",
    "\n",
    "lstm_cell_1 = tf.contrib.rnn.LSTMCell(hidden_size)\n",
    "\n",
    "multi_lstm_cells =  tf.contrib.rnn.MultiRNNCell([lstm_cell_1],state_is_tuple=True)\n",
    "output, final_state  = tf.nn.dynamic_rnn(multi_lstm_cells, x, dtype=tf.float32)\n"
   ]
  },
  {
   "cell_type": "code",
   "execution_count": 11,
   "metadata": {
    "collapsed": true
   },
   "outputs": [],
   "source": [
    "# Output fully connected network\n",
    "\n",
    "shape = output[:,-1,:].get_shape().as_list()\n",
    "output_layer = { 'weight': tf.Variable(tf.random_normal([shape[-1], n_class], dtype=tf.float32)),\n",
    "                'bias' : tf.Variable(tf.random_normal([n_class],dtype=tf.float32))}\n"
   ]
  },
  {
   "cell_type": "code",
   "execution_count": 12,
   "metadata": {
    "collapsed": false
   },
   "outputs": [
    {
     "name": "stdout",
     "output_type": "stream",
     "text": [
      "('Epoch:', 0, 'loss:', 1322274.7886962891)\n",
      "('Epoch:', 1, 'loss:', 996601.58508300781)\n",
      "('Epoch:', 2, 'loss:', 989418.36572265625)\n",
      "('Epoch:', 3, 'loss:', 983563.70556640625)\n",
      "('Epoch:', 4, 'loss:', 982130.19421386719)\n",
      "('Epoch:', 5, 'loss:', 978351.37585449219)\n",
      "('Total time spent:', 14556.14357304573)\n"
     ]
    }
   ],
   "source": [
    "begin = time.time()\n",
    "\n",
    "sentiment = tf.matmul(output[:,-1,:], output_layer['weight']) + output_layer['bias']\n",
    "\n",
    "cost = tf.reduce_sum(tf.nn.softmax_cross_entropy_with_logits(logits = sentiment, labels=y))\n",
    "    \n",
    "optimizer = tf.train.AdamOptimizer(learning_rate= 0.02).minimize(cost)\n",
    "    \n",
    "sess = tf.InteractiveSession()\n",
    "sess.run(tf.global_variables_initializer())\n",
    "    \n",
    " \n",
    "    \n",
    "for epoch in range(n_epoch):\n",
    "    epoch_loss = 0\n",
    "        \n",
    "    # cut into batches\n",
    "    i = 0\n",
    "    while i < len(train_X):\n",
    "        start = i\n",
    "        end = i + batch_size\n",
    "        batch_X = train_X[start: end]\n",
    "        #batch_X = np.array([t for t in batch_X])\n",
    "        batch_X = batch_X.reshape((-1, memory_length, 1))\n",
    "\n",
    "            \n",
    "            \n",
    "            # the original y is single numeric labels, we transform into one hot \n",
    "            # but the out put of tf.one_hot is a tensor node, so we need to sess.run(batch_y)\n",
    "        batch_y = \\\n",
    "        tf.one_hot(np.array(train_y[start: end]),n_class,on_value=1.0, off_value=0.0)\n",
    "        #batch_y = train_y[start: end].reshape(-1,1)\n",
    "            \n",
    "        _, c = sess.run([optimizer, cost],feed_dict={x: batch_X, y: sess.run(batch_y)})\n",
    "            \n",
    "        epoch_loss += c\n",
    "            \n",
    "        i += batch_size\n",
    "    print  ('Epoch:', epoch, 'loss:', epoch_loss)\n",
    "        \n",
    "\n",
    "print ('Total time spent:', time.time() - begin)"
   ]
  },
  {
   "cell_type": "code",
   "execution_count": 44,
   "metadata": {
    "collapsed": true
   },
   "outputs": [],
   "source": [
    "# utility function to draw pictures\n",
    "def draw(image, w, h, pixel):\n",
    "    \"\"\"\n",
    "    pixel: dictionary of pixels\n",
    "    \n",
    "    \"\"\"\n",
    "    d = np.zeros((h, w, 3), dtype=np.uint8)\n",
    "    ex = image.reshape((h,w))\n",
    "    for i in range(h):\n",
    "        for j in range(w):\n",
    "            d[i][j][0] = pixel.iloc[ex[i][j]][0]\n",
    "            d[i][j][1] = pixel.iloc[ex[i][j]][1]\n",
    "            d[i][j][2] = pixel.iloc[ex[i][j]][2]\n",
    "    plt.imshow(d, interpolation='nearest')\n",
    "\n",
    "\n",
    "    plt.figure(figsize=(3,4))"
   ]
  },
  {
   "cell_type": "code",
   "execution_count": 14,
   "metadata": {
    "collapsed": true
   },
   "outputs": [],
   "source": [
    "# Utility function to generate predition picture\n",
    "\n",
    "def generate_pic(image, memory_length, percentage):\n",
    "    given_length = int(len(image)*percentage)\n",
    "    predict_image = np.array(image[:given_length])\n",
    "    \n",
    "\n",
    "    \n",
    "    i = 0\n",
    "\n",
    "    while i < 400 - given_length:\n",
    "        curr_sentence = predict_image[i: i+ memory_length].astype('float32')\n",
    "        curr_sentence = curr_sentence.reshape((1, memory_length,1))\n",
    "        predict_image = np.append(predict_image,np.argmax(sentiment.eval({x: curr_sentence})))\n",
    "\n",
    "        i += 1\n",
    "    return predict_image    \n",
    "    "
   ]
  },
  {
   "cell_type": "code",
   "execution_count": 24,
   "metadata": {
    "collapsed": true
   },
   "outputs": [],
   "source": [
    "# Utility function to generate covered picture\n",
    "\n",
    "def generate_cover(image, memory_length, percentage):\n",
    "    given_length = int(len(image)*percentage)\n",
    "    predict_image = np.array(image[:given_length])\n",
    "    \n",
    "    # current ending index\n",
    "    #end = len(predict_image)\n",
    "    \n",
    "    i = 0\n",
    "    #i = given_length - memory_length\n",
    "    #while i < 400 - memory_length:\n",
    "    while i < 400 - given_length:\n",
    "\n",
    "        predict_image = np.append(predict_image,1)\n",
    " \n",
    "        i += 1\n",
    "    return predict_image    \n",
    "    "
   ]
  },
  {
   "cell_type": "code",
   "execution_count": 80,
   "metadata": {
    "collapsed": false
   },
   "outputs": [],
   "source": [
    "image = data.iloc[783]\n",
    "\n",
    "predict_image = generate_pic(image, memory_length, 0.6)\n",
    "\n",
    "cover_image = generate_cover(image, memory_length, 0.6)"
   ]
  },
  {
   "cell_type": "code",
   "execution_count": 81,
   "metadata": {
    "collapsed": false
   },
   "outputs": [
    {
     "name": "stderr",
     "output_type": "stream",
     "text": [
      "/Users/chihchichou/anaconda/lib/python2.7/site-packages/ipykernel/__main__.py:8: FutureWarning: reshape is deprecated and will raise in a subsequent release. Please use .values.reshape(...) instead\n"
     ]
    },
    {
     "data": {
      "image/png": "[encoded data removed]",
      "text/plain": [
       "<matplotlib.figure.Figure at 0x1ee11dad0>"
      ]
     },
     "metadata": {},
     "output_type": "display_data"
    },
    {
     "data": {
      "text/plain": [
       "<matplotlib.figure.Figure at 0x1ee1c99d0>"
      ]
     },
     "metadata": {},
     "output_type": "display_data"
    }
   ],
   "source": [
    "fig1 = plt.gcf()\n",
    "draw(image, 20,20, pixel)\n",
    "fig1.savefig('783.png')"
   ]
  },
  {
   "cell_type": "code",
   "execution_count": 82,
   "metadata": {
    "collapsed": false
   },
   "outputs": [
    {
     "data": {
      "image/png": "[encoded data removed]",
      "text/plain": [
       "<matplotlib.figure.Figure at 0x1ee3c5550>"
      ]
     },
     "metadata": {},
     "output_type": "display_data"
    },
    {
     "data": {
      "text/plain": [
       "<matplotlib.figure.Figure at 0x1ee128350>"
      ]
     },
     "metadata": {},
     "output_type": "display_data"
    }
   ],
   "source": [
    "fig1 = plt.gcf()\n",
    "draw(predict_image, 20,20,pixel)\n",
    "fig1.savefig('783pred.png')"
   ]
  },
  {
   "cell_type": "code",
   "execution_count": 83,
   "metadata": {
    "collapsed": false
   },
   "outputs": [
    {
     "data": {
      "image/png": "[encoded data removed]",
      "text/plain": [
       "<matplotlib.figure.Figure at 0x1ee466bd0>"
      ]
     },
     "metadata": {},
     "output_type": "display_data"
    },
    {
     "data": {
      "text/plain": [
       "<matplotlib.figure.Figure at 0x1ee6b5f10>"
      ]
     },
     "metadata": {},
     "output_type": "display_data"
    }
   ],
   "source": [
    "fig1 = plt.gcf()\n",
    "draw(cover_image, 20,20,pixel)\n",
    "fig1.savefig('783cover.png')"
   ]
  },
  {
   "cell_type": "code",
   "execution_count": null,
   "metadata": {
    "collapsed": true
   },
   "outputs": [],
   "source": []
  }
 ],
 "metadata": {
  "kernelspec": {
   "display_name": "Python 2",
   "language": "python",
   "name": "python2"
  },
  "language_info": {
   "codemirror_mode": {
    "name": "ipython",
    "version": 2
   },
   "file_extension": ".py",
   "mimetype": "text/x-python",
   "name": "python",
   "nbconvert_exporter": "python",
   "pygments_lexer": "ipython2",
   "version": "2.7.13"
  }
 },
 "nbformat": 4,
 "nbformat_minor": 1
}
